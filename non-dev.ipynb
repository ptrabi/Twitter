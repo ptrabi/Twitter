{
 "cells": [
  {
   "cell_type": "code",
   "execution_count": 5,
   "id": "2b8d9a9e",
   "metadata": {},
   "outputs": [],
   "source": [
    "import csv\n",
    "from getpass import getpass\n",
    "from time import sleep\n",
    "from selenium.webdriver.common.keys import Keys\n",
    "from selenium.common.exceptions import NoSuchElementException\n",
    "from msedge.selenium_tools import Edge, EdgeOptions"
   ]
  },
  {
   "cell_type": "code",
   "execution_count": 6,
   "id": "bc056a1c",
   "metadata": {},
   "outputs": [],
   "source": [
    "options = EdgeOptions()\n",
    "options.use_chromium = True\n",
    "driver = Edge(options=options)\n"
   ]
  },
  {
   "cell_type": "code",
   "execution_count": 7,
   "id": "a9387c95",
   "metadata": {},
   "outputs": [],
   "source": [
    "driver.get('https://www.twitter.com/login')"
   ]
  },
  {
   "cell_type": "code",
   "execution_count": 23,
   "id": "b9942220",
   "metadata": {},
   "outputs": [],
   "source": [
    "username = driver.find_element_by_xpath('//input[@name=\"session[username_or_email]\"]')\n",
    "username.send_keys('ptrabi')\n",
    "\n",
    "password = driver.find_element_by_xpath('//input[@name=\"session[password]\"]')\n",
    "password.send_keys('siMCp7tfvBw8YL')"
   ]
  },
  {
   "cell_type": "code",
   "execution_count": 24,
   "id": "61442b5f",
   "metadata": {},
   "outputs": [],
   "source": [
    "password.send_keys(Keys.RETURN)"
   ]
  },
  {
   "cell_type": "code",
   "execution_count": 27,
   "id": "60e71021",
   "metadata": {},
   "outputs": [],
   "source": [
    "search_input = driver.find_element_by_xpath('//input[@enterkeyhint=\"search\"]')\n",
    "search_input.send_keys('#gardening')\n"
   ]
  },
  {
   "cell_type": "code",
   "execution_count": 28,
   "id": "9e8cb325",
   "metadata": {},
   "outputs": [],
   "source": [
    "search_input.send_keys(Keys.RETURN)"
   ]
  },
  {
   "cell_type": "code",
   "execution_count": 29,
   "id": "d73f142f",
   "metadata": {},
   "outputs": [],
   "source": [
    "driver.find_element_by_link_text('Latest').click()"
   ]
  },
  {
   "cell_type": "code",
   "execution_count": 44,
   "id": "f9ac7a21",
   "metadata": {},
   "outputs": [],
   "source": [
    "cards = driver.find_elements_by_xpath('//div[@data-testid=\"tweet\"]')"
   ]
  },
  {
   "cell_type": "code",
   "execution_count": 45,
   "id": "96052245",
   "metadata": {},
   "outputs": [],
   "source": [
    "card = cards[2]"
   ]
  },
  {
   "cell_type": "code",
   "execution_count": 47,
   "id": "3871eae3",
   "metadata": {},
   "outputs": [
    {
     "data": {
      "text/plain": [
       "'Naren Pariyar'"
      ]
     },
     "execution_count": 47,
     "metadata": {},
     "output_type": "execute_result"
    }
   ],
   "source": [
    "#username\n",
    "card.find_element_by_xpath('.//span').text"
   ]
  },
  {
   "cell_type": "code",
   "execution_count": 48,
   "id": "1d816969",
   "metadata": {},
   "outputs": [
    {
     "data": {
      "text/plain": [
       "'@iamdsafe'"
      ]
     },
     "execution_count": 48,
     "metadata": {},
     "output_type": "execute_result"
    }
   ],
   "source": [
    "#twitter handle\n",
    "card.find_element_by_xpath('.//span[contains(text(),\"@\")]').text"
   ]
  },
  {
   "cell_type": "code",
   "execution_count": 49,
   "id": "f844c968",
   "metadata": {},
   "outputs": [
    {
     "data": {
      "text/plain": [
       "'2021-06-14T11:52:09.000Z'"
      ]
     },
     "execution_count": 49,
     "metadata": {},
     "output_type": "execute_result"
    }
   ],
   "source": [
    "#time\n",
    "card.find_element_by_xpath('.//time').get_attribute('datetime')"
   ]
  },
  {
   "cell_type": "code",
   "execution_count": 50,
   "id": "4684beab",
   "metadata": {},
   "outputs": [
    {
     "data": {
      "text/plain": [
       "'#travel #explore #nature #evening #rainbreak #sweethome #rooftop #gardening #yellow #flower #lockdown2 #staysafe #stayhome #photooftheday #beautiful #photography #iphonex #lakeside #pokhara #Nepal '"
      ]
     },
     "execution_count": 50,
     "metadata": {},
     "output_type": "execute_result"
    }
   ],
   "source": [
    "#time\n",
    "card.find_element_by_xpath('.//div[2]/div[2]/div[1]').text"
   ]
  }
 ],
 "metadata": {
  "kernelspec": {
   "display_name": "Python 3",
   "language": "python",
   "name": "python3"
  },
  "language_info": {
   "codemirror_mode": {
    "name": "ipython",
    "version": 3
   },
   "file_extension": ".py",
   "mimetype": "text/x-python",
   "name": "python",
   "nbconvert_exporter": "python",
   "pygments_lexer": "ipython3",
   "version": "3.8.8"
  }
 },
 "nbformat": 4,
 "nbformat_minor": 5
}
